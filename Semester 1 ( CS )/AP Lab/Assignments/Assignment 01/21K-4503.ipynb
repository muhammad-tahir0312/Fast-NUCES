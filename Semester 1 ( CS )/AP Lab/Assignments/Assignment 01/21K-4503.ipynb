{
 "cells": [
  {
   "cell_type": "markdown",
   "id": "55582ed1",
   "metadata": {},
   "source": [
    "### Question#01"
   ]
  },
  {
   "cell_type": "markdown",
   "id": "1d6b41ba",
   "metadata": {},
   "source": [
    "Write a Python program to calculate the length of your name."
   ]
  },
  {
   "cell_type": "code",
   "execution_count": 4,
   "id": "1a07302d-b816-411e-a221-a2417dd41cab",
   "metadata": {},
   "outputs": [
    {
     "data": {
      "text/plain": [
       "14"
      ]
     },
     "execution_count": 4,
     "metadata": {},
     "output_type": "execute_result"
    }
   ],
   "source": [
    "name=\"Muhammad Tahir\"\n",
    "len(name)"
   ]
  },
  {
   "cell_type": "markdown",
   "id": "27fdea09",
   "metadata": {},
   "source": [
    "### Question#02"
   ]
  },
  {
   "cell_type": "markdown",
   "id": "b148c700",
   "metadata": {},
   "source": [
    "Write a Python program to get a string made of the first 2 and the last 2 chars from a given a string. (consider your name as string). Also swap the position of these chars: \n",
    "\n",
    "Take your name as input and print the sentences like this :\n",
    " The first 2 and the last 2 chars of  …Anabia…. is …. Ania\n",
    " The swapping of the first 2 and the last 2 chars :  iaabAn\n",
    "\n",
    "Sample String : 'Anabia'\n",
    "Expected Result : 'Ania'\n",
    "Sample String : 'An'\n",
    "Expected Result : 'AnAn'\n",
    "For swapping :\n",
    "Sample String : 'Anabia '\n",
    "Expected Result : 'iaabAn'\n"
   ]
  },
  {
   "cell_type": "code",
   "execution_count": 14,
   "id": "60681f99-0ccb-407f-af73-5a1961c8e1bb",
   "metadata": {},
   "outputs": [
    {
     "name": "stdout",
     "output_type": "stream",
     "text": [
      "Enter your name: Tahir\n",
      "The first 2 and the last 2 chars of Tahir is Tair\n"
     ]
    }
   ],
   "source": [
    "name1= input(\"Enter your name: \")\n",
    "print(\"The first 2 and the last 2 chars of \" + name1 + \" is \" + name1[:2] + name1[-2:])"
   ]
  },
  {
   "cell_type": "code",
   "execution_count": 6,
   "id": "887acfbe-5157-47a9-ba98-6c3ff3abec7f",
   "metadata": {},
   "outputs": [
    {
     "data": {
      "text/plain": [
       "'irhammad TahMu'"
      ]
     },
     "execution_count": 6,
     "metadata": {},
     "output_type": "execute_result"
    }
   ],
   "source": [
    "name2 = name1[-2:] + name1[2:12] + name1[:2]\n",
    "name2"
   ]
  },
  {
   "cell_type": "code",
   "execution_count": 7,
   "id": "2a5bbb8b-23a0-411e-8dfe-12a925e2fd9c",
   "metadata": {},
   "outputs": [
    {
     "data": {
      "text/plain": [
       "'okkokk'"
      ]
     },
     "execution_count": 7,
     "metadata": {},
     "output_type": "execute_result"
    }
   ],
   "source": [
    "name3=\"okk\"\n",
    "\n",
    "name3[:3] + name3[-3:]"
   ]
  },
  {
   "cell_type": "markdown",
   "id": "6b0f5f92",
   "metadata": {},
   "source": [
    "### Question#03"
   ]
  },
  {
   "cell_type": "markdown",
   "id": "408cb5d6",
   "metadata": {},
   "source": [
    "Write a Python program to get a single string from two given strings, separated by a space. \n",
    "(consider your name as string)\n",
    "Sample String : 'AnabiaKhan'\n",
    "Expected Result : 'Anbia',’Khan’"
   ]
  },
  {
   "cell_type": "code",
   "execution_count": 17,
   "id": "6516ef63-768a-4c4e-aaeb-8f2b8f96cc89",
   "metadata": {},
   "outputs": [
    {
     "data": {
      "text/plain": [
       "['Muhammad', 'Tahir']"
      ]
     },
     "execution_count": 17,
     "metadata": {},
     "output_type": "execute_result"
    }
   ],
   "source": [
    "name.split(\" \")   # 'name' variable is already difined above."
   ]
  },
  {
   "cell_type": "markdown",
   "id": "1e2b6a22",
   "metadata": {},
   "source": [
    "### Question#04"
   ]
  },
  {
   "cell_type": "markdown",
   "id": "d70d0fc3",
   "metadata": {},
   "source": [
    "Write a Python program to check the characters of your name match with fist chars of your father name. "
   ]
  },
  {
   "cell_type": "code",
   "execution_count": 12,
   "id": "fca30ea4",
   "metadata": {},
   "outputs": [
    {
     "data": {
      "text/plain": [
       "False"
      ]
     },
     "execution_count": 12,
     "metadata": {},
     "output_type": "execute_result"
    }
   ],
   "source": [
    "my_name = \"Tahir\"\n",
    "father_name = \"Nasrum min allah\"\n",
    "\n",
    "my_name[0] == father_name[0] or my_name[1] == father_name[0] or my_name[2] == father_name[0] or my_name[3] == father_name[0] or my_name[4] == father_name[0] "
   ]
  },
  {
   "cell_type": "markdown",
   "id": "0dadbd0d",
   "metadata": {},
   "source": [
    "### Question#05"
   ]
  },
  {
   "cell_type": "markdown",
   "id": "b5711c3e",
   "metadata": {},
   "source": [
    "Write a Python program to get a string from a given string where first char have been changed to '$'. \n",
    "Sample String : 'restart'\n",
    "Expected Result : '$estart'. "
   ]
  },
  {
   "cell_type": "code",
   "execution_count": 29,
   "id": "f95f19c8",
   "metadata": {},
   "outputs": [
    {
     "data": {
      "text/plain": [
       "'$estart'"
      ]
     },
     "execution_count": 29,
     "metadata": {},
     "output_type": "execute_result"
    }
   ],
   "source": [
    "str1=\"restart\"\n",
    "\n",
    "\"$\" + str1[1:]\n"
   ]
  },
  {
   "cell_type": "markdown",
   "id": "4317fe3d",
   "metadata": {},
   "source": [
    "### Question#06"
   ]
  },
  {
   "cell_type": "markdown",
   "id": "1daf18ef",
   "metadata": {},
   "source": [
    "Write a Python program to reverse a string"
   ]
  },
  {
   "cell_type": "code",
   "execution_count": 31,
   "id": "f5e6e4a3",
   "metadata": {},
   "outputs": [
    {
     "data": {
      "text/plain": [
       "'rihaT dammahuM'"
      ]
     },
     "execution_count": 31,
     "metadata": {},
     "output_type": "execute_result"
    }
   ],
   "source": [
    "name[::-1]   # 'name' variable is already difined above."
   ]
  }
 ],
 "metadata": {
  "kernelspec": {
   "display_name": "Python 3",
   "language": "python",
   "name": "python3"
  },
  "language_info": {
   "codemirror_mode": {
    "name": "ipython",
    "version": 3
   },
   "file_extension": ".py",
   "mimetype": "text/x-python",
   "name": "python",
   "nbconvert_exporter": "python",
   "pygments_lexer": "ipython3",
   "version": "3.8.8"
  }
 },
 "nbformat": 4,
 "nbformat_minor": 5
}

{
 "cells": [
  {
   "cell_type": "markdown",
   "id": "77c5d642",
   "metadata": {},
   "source": [
    "#                                     ASSIGNMENT 02"
   ]
  },
  {
   "cell_type": "markdown",
   "id": "d0f179d3",
   "metadata": {},
   "source": [
    "### Question#01"
   ]
  },
  {
   "cell_type": "markdown",
   "id": "3ce5df65",
   "metadata": {},
   "source": [
    "Write a Python script to print a dictionary (name: dict1) where the keys are numbers\n",
    "between 1 and 10 (both included) and the values are square of keys."
   ]
  },
  {
   "cell_type": "code",
   "execution_count": 2,
   "id": "7bbb8a37",
   "metadata": {},
   "outputs": [],
   "source": [
    "dict1 = { 1: 1, 2:4, 3:9, 4:16, 5:25, 6:36, 7:49, 8:64, 9:81, 10:100}"
   ]
  },
  {
   "cell_type": "code",
   "execution_count": 5,
   "id": "1b27a186",
   "metadata": {},
   "outputs": [
    {
     "name": "stdout",
     "output_type": "stream",
     "text": [
      "{1: 1, 2: 4, 3: 9, 4: 16, 5: 25, 6: 36, 7: 49, 8: 64, 9: 81, 10: 100}\n"
     ]
    }
   ],
   "source": [
    "print(dict1)"
   ]
  },
  {
   "cell_type": "markdown",
   "id": "c1fbb2a5",
   "metadata": {},
   "source": [
    "### Question#02\n",
    "\n",
    "Below are the two list convert it into a dictionary (name: dict2).\n",
    "Keys = [‘One’, ‘Two’, ‘Three’, ‘Four’, ‘Five’]\n",
    "Values = [10, 20, 30, 40, 50 ]"
   ]
  },
  {
   "cell_type": "code",
   "execution_count": 6,
   "id": "f1cb9fb5",
   "metadata": {},
   "outputs": [
    {
     "name": "stdout",
     "output_type": "stream",
     "text": [
      "['One', 'Two', 'Three', 'Four', 'Five']\n",
      "[10, 20, 30, 40, 50]\n"
     ]
    }
   ],
   "source": [
    "keys = [\"One\", \"Two\", \"Three\", \"Four\", \"Five\"]\n",
    "values = [10, 20, 30, 40, 50 ]\n",
    "print(keys)\n",
    "print(values)"
   ]
  },
  {
   "cell_type": "code",
   "execution_count": 7,
   "id": "a6f50ebf",
   "metadata": {},
   "outputs": [],
   "source": [
    "dict2 = { }\n",
    "\n",
    "for key in keys:\n",
    "    for value in values:\n",
    "        dict2[key] = value"
   ]
  },
  {
   "cell_type": "code",
   "execution_count": 8,
   "id": "001b0bc7",
   "metadata": {},
   "outputs": [
    {
     "data": {
      "text/plain": [
       "{'One': 50, 'Two': 50, 'Three': 50, 'Four': 50, 'Five': 50}"
      ]
     },
     "execution_count": 8,
     "metadata": {},
     "output_type": "execute_result"
    }
   ],
   "source": [
    "dict2"
   ]
  },
  {
   "cell_type": "markdown",
   "id": "166a9b9f",
   "metadata": {},
   "source": [
    "### Question#03\n",
    "\n",
    "Merge above two Python dictionaries (dict1 and dict2) into one (name: dict_merg)."
   ]
  },
  {
   "cell_type": "code",
   "execution_count": 9,
   "id": "5518ee9e",
   "metadata": {},
   "outputs": [
    {
     "name": "stdout",
     "output_type": "stream",
     "text": [
      "{1: 1, 2: 4, 3: 9, 4: 16, 5: 25, 6: 36, 7: 49, 8: 64, 9: 81, 10: 100}\n",
      "{'One': 50, 'Two': 50, 'Three': 50, 'Four': 50, 'Five': 50}\n"
     ]
    }
   ],
   "source": [
    "print(dict1)\n",
    "print(dict2)"
   ]
  },
  {
   "cell_type": "code",
   "execution_count": 10,
   "id": "50c80bfe",
   "metadata": {},
   "outputs": [],
   "source": [
    "dict_merge = { }"
   ]
  },
  {
   "cell_type": "code",
   "execution_count": 11,
   "id": "a769e1ce",
   "metadata": {},
   "outputs": [],
   "source": [
    "dict_merge = dict1.copy()\n",
    "dict_merge.update(dict2)"
   ]
  },
  {
   "cell_type": "code",
   "execution_count": 12,
   "id": "341a6f25",
   "metadata": {},
   "outputs": [
    {
     "name": "stdout",
     "output_type": "stream",
     "text": [
      "{1: 1, 2: 4, 3: 9, 4: 16, 5: 25, 6: 36, 7: 49, 8: 64, 9: 81, 10: 100, 'One': 50, 'Two': 50, 'Three': 50, 'Four': 50, 'Five': 50}\n"
     ]
    }
   ],
   "source": [
    "print(dict_merge)"
   ]
  },
  {
   "cell_type": "markdown",
   "id": "649cd0af",
   "metadata": {},
   "source": [
    "### Question#04\n",
    "\n",
    "Considering a dictionary (dict1), write a Python script to check whether a given key (taking\n",
    "as any input) already exists in a dictionary or not (use if/else conditions).\n",
    "Output will be like:\n",
    "Key is present in the dictionary. OR\n",
    "Key is not present in the dictionary\n"
   ]
  },
  {
   "cell_type": "code",
   "execution_count": 16,
   "id": "b8c8800e",
   "metadata": {},
   "outputs": [
    {
     "name": "stdout",
     "output_type": "stream",
     "text": [
      "Enter your value: 4\n",
      "Key is not present in the dictionary\n"
     ]
    }
   ],
   "source": [
    "dic = {  1: 1, 2:4, 3:9 }\n",
    "key = int(input(\"Enter your value: \"))\n",
    "\n",
    "if key in dic:\n",
    "    print(\"Key is present in the dictionary\")\n",
    "else:\n",
    "    print(\"Key is not present in the dictionary\")"
   ]
  },
  {
   "cell_type": "markdown",
   "id": "04c73d62",
   "metadata": {},
   "source": [
    "# Question#05\n",
    "\n",
    "Create a new dictionary by extracting the following keys from a given dictionary sample\n",
    "Dict = { &quot;name&quot;: &quot;Kelly&quot;, &quot;age&quot;:25, &quot;salary&quot;: 8000, &quot;city&quot;: &quot;New york&quot; }\n",
    "Keys to extract: keys = [‘name’, ‘salary’]\n",
    "Expected output:\n",
    "{&#39;name&#39;: &#39;Kelly&#39;, &#39;salary&#39;: 8000}"
   ]
  },
  {
   "cell_type": "code",
   "execution_count": 4,
   "id": "6489a035",
   "metadata": {},
   "outputs": [],
   "source": [
    "test_dict = { \"name\": \"Kelly\", \"age\":25, \"salary\": 8000, \"city\": \"New york\" }\n",
    "new_dict = {}\n",
    "\n",
    "for key,val in test_dict.items():\n",
    "    if key == \"name\":\n",
    "        new_dict[key] = val\n",
    "    if key == \"salary\":\n",
    "        new_dict[key] = val"
   ]
  },
  {
   "cell_type": "code",
   "execution_count": 5,
   "id": "10b1081d",
   "metadata": {},
   "outputs": [
    {
     "name": "stdout",
     "output_type": "stream",
     "text": [
      "{'name': 'Kelly', 'salary': 8000}\n"
     ]
    }
   ],
   "source": [
    "print(new_dict)"
   ]
  },
  {
   "cell_type": "markdown",
   "id": "9d261076",
   "metadata": {},
   "source": [
    "### Question#06\n",
    "\n",
    "Delete set of keys from Python Dictionary and keys To Remove = [&quot;name&quot;, &quot;salary&quot;]"
   ]
  },
  {
   "cell_type": "code",
   "execution_count": 20,
   "id": "e7b1ef25",
   "metadata": {},
   "outputs": [],
   "source": [
    " Dict = { \"name\": \"Kelly\", \"age\":25, \"salary\": 8000, \"city\": \"New york\" }"
   ]
  },
  {
   "cell_type": "code",
   "execution_count": 21,
   "id": "39d315b4",
   "metadata": {},
   "outputs": [],
   "source": [
    "del Dict[\"name\"]\n",
    "del Dict[\"salary\"]"
   ]
  },
  {
   "cell_type": "code",
   "execution_count": 22,
   "id": "120dbc3f",
   "metadata": {},
   "outputs": [
    {
     "name": "stdout",
     "output_type": "stream",
     "text": [
      "{'age': 25, 'city': 'New york'}\n"
     ]
    }
   ],
   "source": [
    "print(Dict)"
   ]
  },
  {
   "cell_type": "markdown",
   "id": "3aaf817f",
   "metadata": {},
   "source": [
    "### Question#07\n",
    "\n",
    "Display the cube of the number up to a given integer."
   ]
  },
  {
   "cell_type": "code",
   "execution_count": 19,
   "id": "07a31677",
   "metadata": {},
   "outputs": [
    {
     "name": "stdout",
     "output_type": "stream",
     "text": [
      "Enter range of numbers you want the cube of: \n",
      "5\n",
      "Cube of 0 is 0\n",
      "Cube of 1 is 1\n",
      "Cube of 2 is 8\n",
      "Cube of 3 is 27\n",
      "Cube of 4 is 64\n"
     ]
    }
   ],
   "source": [
    "print(\"Enter range of numbers you want the cube of: \")\n",
    "y = int(input())\n",
    "\n",
    "for x in range(y):\n",
    "    print(\"Cube of %d is %d\"%(x,x*x*x))"
   ]
  },
  {
   "cell_type": "markdown",
   "id": "430fda74",
   "metadata": {},
   "source": [
    "### Question#08\n",
    "\n",
    "Display -10 to -1 using for loop."
   ]
  },
  {
   "cell_type": "code",
   "execution_count": 22,
   "id": "50c6c1d5",
   "metadata": {},
   "outputs": [
    {
     "name": "stdout",
     "output_type": "stream",
     "text": [
      "-10\n",
      "-9\n",
      "-8\n",
      "-7\n",
      "-6\n",
      "-5\n",
      "-4\n",
      "-3\n",
      "-2\n",
      "-1\n"
     ]
    }
   ],
   "source": [
    "for x in range(-10,0):\n",
    "    print(x)\n",
    "    "
   ]
  },
  {
   "cell_type": "markdown",
   "id": "24d7d725",
   "metadata": {},
   "source": [
    "### Question#09\n",
    "\n",
    "Check if a value 200 exists in a dictionary.\n",
    "sampleDict = {&#39;a&#39;: 100, &#39;b&#39;: 200, &#39;c&#39;: 300}"
   ]
  },
  {
   "cell_type": "code",
   "execution_count": 66,
   "id": "44f5cab9",
   "metadata": {},
   "outputs": [],
   "source": [
    "Dict = {'a': 100, 'b': 200, 'c': 300}"
   ]
  },
  {
   "cell_type": "code",
   "execution_count": 67,
   "id": "7516f87a",
   "metadata": {},
   "outputs": [
    {
     "name": "stdout",
     "output_type": "stream",
     "text": [
      "Exists!!\n"
     ]
    }
   ],
   "source": [
    "x = 200\n",
    "\n",
    "if x in Dict.values():\n",
    "    print(\"Exists!!\")\n",
    "else:\n",
    "    print(\"nah\")"
   ]
  },
  {
   "cell_type": "markdown",
   "id": "dff65e78",
   "metadata": {},
   "source": [
    "### Question#10\n",
    "\n",
    "Print First 10 natural numbers using while loop. Print the following pattern"
   ]
  },
  {
   "cell_type": "code",
   "execution_count": 2,
   "id": "3dd8e1d6",
   "metadata": {},
   "outputs": [
    {
     "name": "stdout",
     "output_type": "stream",
     "text": [
      "1\n",
      "2\n",
      "3\n",
      "4\n",
      "5\n",
      "6\n",
      "7\n",
      "8\n",
      "9\n",
      "10\n"
     ]
    }
   ],
   "source": [
    "x = 1\n",
    "\n",
    "while(x<=10):\n",
    "    print(x)\n",
    "    x += 1"
   ]
  },
  {
   "cell_type": "code",
   "execution_count": 23,
   "id": "343da4e5",
   "metadata": {},
   "outputs": [
    {
     "name": "stdout",
     "output_type": "stream",
     "text": [
      "1 \n",
      "1 2 \n",
      "1 2 3 \n",
      "1 2 3 4 \n",
      "1 2 3 4 5 \n"
     ]
    }
   ],
   "source": [
    "i=1\n",
    "while(i<=5):\n",
    "    j=1\n",
    "    while(j<=i):\n",
    "        print(j, end=\" \")\n",
    "        j=j+1\n",
    "    print()\n",
    "    i=i+1"
   ]
  },
  {
   "cell_type": "markdown",
   "id": "0f0d5f91",
   "metadata": {},
   "source": [
    "# FINISHED!"
   ]
  }
 ],
 "metadata": {
  "kernelspec": {
   "display_name": "Python 3",
   "language": "python",
   "name": "python3"
  },
  "language_info": {
   "codemirror_mode": {
    "name": "ipython",
    "version": 3
   },
   "file_extension": ".py",
   "mimetype": "text/x-python",
   "name": "python",
   "nbconvert_exporter": "python",
   "pygments_lexer": "ipython3",
   "version": "3.8.8"
  }
 },
 "nbformat": 4,
 "nbformat_minor": 5
}

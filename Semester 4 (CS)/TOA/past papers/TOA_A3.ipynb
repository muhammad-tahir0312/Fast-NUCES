{
  "nbformat": 4,
  "nbformat_minor": 0,
  "metadata": {
    "colab": {
      "provenance": []
    },
    "kernelspec": {
      "name": "python3",
      "display_name": "Python 3"
    },
    "language_info": {
      "name": "python"
    }
  },
  "cells": [
    {
      "cell_type": "markdown",
      "source": [
        "# ***Theory Of Automata***\n",
        "---\n",
        "\n",
        "\n",
        "## Assignment 3\n",
        "\n",
        "**Group Members:**\n",
        "\n",
        "* Muhammad Talha Bilal (21K-3349)\n",
        "* Muhammad Hamza (21K-4579)\n",
        "* Muhammad Salar (21K-4619)\n",
        "\n"
      ],
      "metadata": {
        "id": "BLkK_AW7luOl"
      }
    },
    {
      "cell_type": "code",
      "execution_count": 2,
      "metadata": {
        "id": "DMTLV_8YC6XA"
      },
      "outputs": [],
      "source": [
        "class Parser:\n",
        "    def __init__(self, input_str):\n",
        "        self.input_str = input_str\n",
        "        self.pos = 0\n",
        "\n",
        "    def parse(self):\n",
        "        if self.E():\n",
        "            if self.pos == len(self.input_str):\n",
        "                return True\n",
        "        return False\n",
        "\n",
        "    def E(self):\n",
        "        if self.T():\n",
        "            while self.pos < len(self.input_str) and self.input_str[self.pos] == '+':\n",
        "                self.pos += 1\n",
        "                if not self.T():\n",
        "                    return False\n",
        "            return True\n",
        "        return False\n",
        "        \n",
        "    def T(self):\n",
        "        if self.F():\n",
        "            while self.pos < len(self.input_str) and self.input_str[self.pos] == '*':\n",
        "                self.pos += 1\n",
        "                if not self.F():\n",
        "                    return False\n",
        "            return True\n",
        "        return False\n",
        "\n",
        "    def F(self):\n",
        "        if self.pos < len(self.input_str):\n",
        "            if self.input_str[self.pos] == '(':\n",
        "                self.pos += 1\n",
        "                if not self.E():\n",
        "                    return False\n",
        "                if self.pos < len(self.input_str) and self.input_str[self.pos] == ')':\n",
        "                    self.pos += 1\n",
        "                    return True\n",
        "                else:\n",
        "                    return False\n",
        "            elif self.input_str[self.pos] == 'a':\n",
        "                self.pos += 1\n",
        "                return True\n",
        "        return False\n"
      ]
    },
    {
      "cell_type": "code",
      "source": [
        "ch= True\n",
        "while(ch):\n",
        "  expression = input(\"\\nEnter a expression to parse: \")\n",
        "  parser = Parser(expression)\n",
        "  if parser.parse():\n",
        "      print('Input is valid')\n",
        "  else:\n",
        "      print('Input is invalid')\n",
        "  ch = bool(input(\"Do you want to continue?\\n\"))\n",
        "\n"
      ],
      "metadata": {
        "colab": {
          "base_uri": "https://localhost:8080/"
        },
        "id": "RyWzu5imC_6u",
        "outputId": "5ac0fa06-1b66-42fa-b95f-b2c63ead9d80"
      },
      "execution_count": 15,
      "outputs": [
        {
          "name": "stdout",
          "output_type": "stream",
          "text": [
            "\n",
            "Enter a expression to parse: a+(a*(a+a*a))\n",
            "Input is valid\n",
            "Do you want to continue?\n",
            "\n"
          ]
        }
      ]
    }
  ]
}